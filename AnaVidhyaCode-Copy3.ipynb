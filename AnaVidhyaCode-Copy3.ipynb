{
 "cells": [
  {
   "cell_type": "code",
   "execution_count": 1,
   "metadata": {},
   "outputs": [
    {
     "name": "stderr",
     "output_type": "stream",
     "text": [
      "C:\\Users\\USER\\Anaconda3\\lib\\site-packages\\h5py\\__init__.py:34: FutureWarning: Conversion of the second argument of issubdtype from `float` to `np.floating` is deprecated. In future, it will be treated as `np.float64 == np.dtype(float).type`.\n",
      "  from ._conv import register_converters as _register_converters\n",
      "Using TensorFlow backend.\n"
     ]
    }
   ],
   "source": [
    "# By: Biswajit Ghoshal - Analytics Vidhya: Game of DL - CV for ship categories - 09-Jun-2019\n",
    "from os import listdir\n",
    "from os.path import isfile, join\n",
    "import cv2, glob, statistics, keras\n",
    "import numpy as np\n",
    "import pandas as pd\n",
    "import matplotlib.pyplot as plt\n",
    "from keras.utils import to_categorical\n",
    "%matplotlib inline\n",
    "from __future__ import print_function\n",
    "from keras.models import Sequential\n",
    "from keras.layers import Dense, Conv2D, MaxPooling2D, Dropout, Flatten\n",
    "from sklearn.model_selection import train_test_split"
   ]
  },
  {
   "cell_type": "code",
   "execution_count": 2,
   "metadata": {
    "collapsed": true
   },
   "outputs": [],
   "source": [
    "mypath = \"D:/Biswajit/HackerearthML/AnalyticsVidhya/images/\"\n",
    "onlyfiles = [f for f in listdir(mypath) if isfile(join(mypath, f))]"
   ]
  },
  {
   "cell_type": "code",
   "execution_count": 3,
   "metadata": {},
   "outputs": [
    {
     "data": {
      "text/plain": [
       "['1001804.jpg', '1003035.jpg', '1004028.jpg', '1004054.jpg']"
      ]
     },
     "execution_count": 3,
     "metadata": {},
     "output_type": "execute_result"
    }
   ],
   "source": [
    "onlyfiles[1:5]"
   ]
  },
  {
   "cell_type": "code",
   "execution_count": 4,
   "metadata": {},
   "outputs": [
    {
     "name": "stdout",
     "output_type": "stream",
     "text": [
      "(52, 210, 3)\n",
      "(157, 210, 3)\n",
      "(158, 210, 3)\n",
      "(158, 210, 3)\n",
      "(78, 210, 3)\n"
     ]
    }
   ],
   "source": [
    "for i in onlyfiles[10:15] :\n",
    "    fname = mypath + i\n",
    "    imdata = cv2.imread(fname)\n",
    "    print(imdata.shape)"
   ]
  },
  {
   "cell_type": "code",
   "execution_count": 5,
   "metadata": {
    "collapsed": true
   },
   "outputs": [],
   "source": [
    "mypath = \"D:/Biswajit/HackerearthML/AnalyticsVidhya/images/*.jpg\"\n",
    "# images = [cv2.imread(file) for file in glob.glob(mypath)] one way to load the files"
   ]
  },
  {
   "cell_type": "code",
   "execution_count": 6,
   "metadata": {
    "collapsed": true
   },
   "outputs": [],
   "source": [
    "# another way to load the files - which we are going to use\n",
    "data = []\n",
    "for f1 in glob.glob(mypath):\n",
    "    img = cv2.imread(f1)\n",
    "#    img_res = img.resize((140,210,3))\n",
    "    data.append(img)"
   ]
  },
  {
   "cell_type": "code",
   "execution_count": 7,
   "metadata": {},
   "outputs": [
    {
     "data": {
      "text/plain": [
       "8932"
      ]
     },
     "execution_count": 7,
     "metadata": {},
     "output_type": "execute_result"
    }
   ],
   "source": [
    "len(data)"
   ]
  },
  {
   "cell_type": "code",
   "execution_count": 8,
   "metadata": {
    "collapsed": true
   },
   "outputs": [],
   "source": [
    "cv2.imread?"
   ]
  },
  {
   "cell_type": "code",
   "execution_count": 8,
   "metadata": {
    "collapsed": true
   },
   "outputs": [],
   "source": [
    "l = []\n",
    "for i in range(len(data)) :\n",
    "    l.append(data[i].shape[1])"
   ]
  },
  {
   "cell_type": "code",
   "execution_count": 9,
   "metadata": {},
   "outputs": [
    {
     "data": {
      "text/plain": [
       "Counter({91: 1,\n",
       "         96: 1,\n",
       "         97: 1,\n",
       "         98: 1,\n",
       "         100: 1,\n",
       "         101: 1,\n",
       "         105: 22,\n",
       "         106: 2,\n",
       "         107: 1,\n",
       "         108: 1,\n",
       "         109: 2,\n",
       "         111: 1,\n",
       "         112: 1,\n",
       "         113: 1,\n",
       "         115: 3,\n",
       "         116: 1,\n",
       "         119: 13,\n",
       "         120: 2,\n",
       "         121: 2,\n",
       "         122: 1,\n",
       "         124: 1,\n",
       "         126: 2,\n",
       "         128: 1,\n",
       "         130: 1,\n",
       "         133: 1,\n",
       "         134: 1,\n",
       "         135: 1,\n",
       "         136: 1,\n",
       "         137: 1,\n",
       "         138: 1,\n",
       "         142: 1,\n",
       "         143: 1,\n",
       "         144: 2,\n",
       "         146: 2,\n",
       "         151: 1,\n",
       "         156: 4,\n",
       "         158: 2,\n",
       "         160: 1,\n",
       "         161: 3,\n",
       "         162: 1,\n",
       "         166: 2,\n",
       "         167: 1,\n",
       "         169: 1,\n",
       "         172: 3,\n",
       "         173: 3,\n",
       "         174: 1,\n",
       "         175: 1,\n",
       "         176: 1,\n",
       "         179: 3,\n",
       "         180: 2,\n",
       "         181: 2,\n",
       "         182: 1,\n",
       "         183: 2,\n",
       "         184: 3,\n",
       "         185: 1,\n",
       "         186: 1,\n",
       "         187: 3,\n",
       "         188: 1,\n",
       "         189: 1,\n",
       "         190: 3,\n",
       "         191: 3,\n",
       "         192: 5,\n",
       "         193: 1,\n",
       "         194: 1,\n",
       "         195: 4,\n",
       "         196: 2,\n",
       "         197: 5,\n",
       "         198: 4,\n",
       "         199: 8,\n",
       "         200: 1,\n",
       "         201: 17,\n",
       "         202: 7,\n",
       "         203: 9,\n",
       "         204: 10,\n",
       "         205: 7,\n",
       "         206: 6,\n",
       "         207: 13,\n",
       "         208: 10,\n",
       "         209: 26,\n",
       "         210: 8669})"
      ]
     },
     "execution_count": 9,
     "metadata": {},
     "output_type": "execute_result"
    }
   ],
   "source": [
    "from collections import Counter\n",
    "Counter(l)"
   ]
  },
  {
   "cell_type": "code",
   "execution_count": 11,
   "metadata": {
    "collapsed": true
   },
   "outputs": [],
   "source": [
    "# ndata = np.stack(data)"
   ]
  },
  {
   "cell_type": "code",
   "execution_count": 10,
   "metadata": {},
   "outputs": [
    {
     "data": {
      "text/plain": [
       "(134, 210, 3)"
      ]
     },
     "execution_count": 10,
     "metadata": {},
     "output_type": "execute_result"
    }
   ],
   "source": [
    "data[1].shape"
   ]
  },
  {
   "cell_type": "code",
   "execution_count": 11,
   "metadata": {
    "collapsed": true
   },
   "outputs": [],
   "source": [
    "cv2.namedWindow('Lena')  # Images can be displayed using built in opencv functions. In particular it is possible \n",
    "cv2.imshow('Lena', cv2.resize(data[4000], (150, 120), interpolation = cv2.INTER_AREA)) # to create \"named windows\" (i.e., windows with a title) and show images\n",
    "cv2.waitKey()   # cv2.resize(data[6001], (210, 160), interpolation = cv2.INTER_AREA)\n",
    "cv2.destroyAllWindows()"
   ]
  },
  {
   "cell_type": "code",
   "execution_count": 12,
   "metadata": {
    "collapsed": true
   },
   "outputs": [],
   "source": [
    "trn_img = pd.read_csv(\"D:/Biswajit/HackerearthML/AnalyticsVidhya/train.csv\")\n",
    "tst_img = pd.read_csv(\"D:/Biswajit/HackerearthML/AnalyticsVidhya/test_ApKoW4T.csv\")"
   ]
  },
  {
   "cell_type": "code",
   "execution_count": 13,
   "metadata": {},
   "outputs": [
    {
     "name": "stdout",
     "output_type": "stream",
     "text": [
      "0    2823080.jpg\n",
      "1    2870024.jpg\n",
      "2    2662125.jpg\n",
      "3    2900420.jpg\n",
      "4    2804883.jpg\n",
      "Name: image, dtype: object\n",
      "2675    950995.jpg\n",
      "2676    951046.jpg\n",
      "2677    951323.jpg\n",
      "2678    952113.jpg\n",
      "2679    953982.jpg\n",
      "Name: image, dtype: object\n"
     ]
    }
   ],
   "source": [
    "print(trn_img[\"image\"].head())\n",
    "print(tst_img[\"image\"].tail())\n",
    "mypath = \"D:/Biswajit/HackerearthML/AnalyticsVidhya/images/\""
   ]
  },
  {
   "cell_type": "code",
   "execution_count": 14,
   "metadata": {
    "collapsed": true
   },
   "outputs": [],
   "source": [
    "# read training files with resize information\n",
    "datr = []\n",
    "for f1 in trn_img[\"image\"]:\n",
    "    img = cv2.imread(mypath + f1)\n",
    "    try:\n",
    "        img_res = cv2.resize(img, (150, 120), interpolation = cv2.INTER_AREA)  # Later check (160,210) for better result\n",
    "        datr.append(img_res)\n",
    "    except Exception as e:\n",
    "        print(f1)"
   ]
  },
  {
   "cell_type": "code",
   "execution_count": 15,
   "metadata": {},
   "outputs": [
    {
     "name": "stdout",
     "output_type": "stream",
     "text": [
      "1\n"
     ]
    }
   ],
   "source": [
    "cv2.namedWindow('Lena')  # Images can be displayed using built in opencv functions. In particular it is possible \n",
    "cv2.imshow('Lena', datr[6251]) # cv2.resize(datr[6251]), (210, 160), interpolation = cv2.INTER_AREA) # to create \"named windows\" (i.e., windows with a title) and show images\n",
    "cv2.waitKey()   # cv2.resize(data[6001], (210, 160), interpolation = cv2.INTER_AREA)\n",
    "cv2.destroyAllWindows()\n",
    "print(trn_img[\"category\"][6251])"
   ]
  },
  {
   "cell_type": "code",
   "execution_count": 16,
   "metadata": {
    "collapsed": true
   },
   "outputs": [],
   "source": [
    "# read test data with resize information\n",
    "dats = []\n",
    "for f1 in tst_img[\"image\"]:\n",
    "    img = cv2.imread(mypath + f1)\n",
    "    try:\n",
    "        img_res = cv2.resize(img, (150, 120), interpolation = cv2.INTER_AREA)  # Later check (160,210) for better result\n",
    "        dats.append(img_res)\n",
    "    except Exception as e:\n",
    "        print(f1)"
   ]
  },
  {
   "cell_type": "code",
   "execution_count": 17,
   "metadata": {},
   "outputs": [
    {
     "name": "stdout",
     "output_type": "stream",
     "text": [
      "datr1 shape:  (6252, 120, 150, 3)\n",
      "dats1 shape:  (2680, 120, 150, 3)\n"
     ]
    }
   ],
   "source": [
    "datr1 = np.array(datr)\n",
    "dats1 = np.array(dats)\n",
    "print(\"datr1 shape: \", datr1.shape)\n",
    "print(\"dats1 shape: \", dats1.shape)"
   ]
  },
  {
   "cell_type": "code",
   "execution_count": 18,
   "metadata": {
    "collapsed": true
   },
   "outputs": [],
   "source": [
    "data_train, data_val, labels_train, labels_val = train_test_split(datr1, \n",
    "                                                                    trn_img[\"category\"], test_size=0.10, random_state=42)"
   ]
  },
  {
   "cell_type": "code",
   "execution_count": 19,
   "metadata": {},
   "outputs": [
    {
     "name": "stdout",
     "output_type": "stream",
     "text": [
      "data_train shape:  (5626, 120, 150, 3)\n",
      "data_val shape:  (626, 120, 150, 3)\n",
      "labels_train shape:  (5626,)\n",
      "labels_val shape:  (626,)\n",
      "Total number of outputs :  5\n",
      "Output classes :  [1 2 3 4 5]\n"
     ]
    }
   ],
   "source": [
    "print(\"data_train shape: \", data_train.shape)\n",
    "print(\"data_val shape: \", data_val.shape)\n",
    "print(\"labels_train shape: \", labels_train.shape)\n",
    "print(\"labels_val shape: \", labels_val.shape)\n",
    "classes = np.unique(labels_train)\n",
    "nClasses = len(classes)\n",
    "print('Total number of outputs : ', nClasses)\n",
    "print('Output classes : ', classes)"
   ]
  },
  {
   "cell_type": "code",
   "execution_count": 20,
   "metadata": {
    "collapsed": true
   },
   "outputs": [],
   "source": [
    "nRows,nCols,nDims = data_train.shape[1:]\n",
    "train_data = data_train.reshape(data_train.shape[0], nRows, nCols, nDims)\n",
    "test_data = data_val.reshape(data_val.shape[0], nRows, nCols, nDims)\n",
    "input_shape = (nRows, nCols, nDims)\n",
    "\n",
    "# Change to float datatype\n",
    "train_data = train_data.astype('float32')\n",
    "test_data = test_data.astype('float32')\n",
    "\n",
    "# Scale the data to lie between 0 to 1\n",
    "train_data /= 255\n",
    "test_data /= 255\n",
    "\n",
    "# Change the labels from integer to categorical data\n",
    "train_labels_one_hot = to_categorical(labels_train - 1)  # Remember to add 1 to the predicted label\n",
    "test_labels_one_hot = to_categorical(labels_val - 1)"
   ]
  },
  {
   "cell_type": "code",
   "execution_count": 21,
   "metadata": {},
   "outputs": [
    {
     "name": "stdout",
     "output_type": "stream",
     "text": [
      "Original label 0 :  4\n",
      "After conversion to categorical ( one-hot ) :  [0. 0. 0. 1. 0.]\n",
      "input_shape: (120, 150, 3)\n"
     ]
    }
   ],
   "source": [
    "print('Original label 0 : ', labels_val[1703]) # this is the 1st record, which gets 0 index in 1hot-set\n",
    "print('After conversion to categorical ( one-hot ) : ', test_labels_one_hot[0])\n",
    "print(\"input_shape:\", input_shape)"
   ]
  },
  {
   "cell_type": "code",
   "execution_count": 25,
   "metadata": {
    "collapsed": true
   },
   "outputs": [],
   "source": [
    "def createModel():\n",
    "    model = Sequential()\n",
    "    model.add(Conv2D(32, (3, 3), padding= 'same', activation='relu', input_shape=input_shape))\n",
    "    model.add(Conv2D(32, (3, 3), activation='relu'))\n",
    "    model.add(MaxPooling2D(pool_size=(2, 2)))\n",
    "    model.add(Dropout(0.25))\n",
    "  \n",
    "    model.add(Conv2D(64, (3, 3), padding= 'same', activation='relu'))\n",
    "    model.add(Conv2D(64, (3, 3), activation='relu'))\n",
    "    model.add(MaxPooling2D(pool_size=(2, 2)))\n",
    "    model.add(Dropout(0.25))\n",
    "  \n",
    "    model.add(Conv2D(64, (3, 3), padding='same', activation='relu'))\n",
    "    model.add(Conv2D(64, (3, 3), activation='relu'))\n",
    "    model.add(MaxPooling2D(pool_size=(2, 2)))\n",
    "    model.add(Dropout(0.25))\n",
    "  \n",
    "    model.add(Flatten())\n",
    "    model.add(Dense(512, activation='relu'))\n",
    "    model.add(Dropout(0.5))\n",
    "    model.add(Dense(nClasses, activation='softmax'))\n",
    "  \n",
    "    return model"
   ]
  },
  {
   "cell_type": "code",
   "execution_count": 26,
   "metadata": {},
   "outputs": [
    {
     "name": "stdout",
     "output_type": "stream",
     "text": [
      "_________________________________________________________________\n",
      "Layer (type)                 Output Shape              Param #   \n",
      "=================================================================\n",
      "conv2d_7 (Conv2D)            (None, 120, 150, 32)      896       \n",
      "_________________________________________________________________\n",
      "conv2d_8 (Conv2D)            (None, 118, 148, 32)      9248      \n",
      "_________________________________________________________________\n",
      "max_pooling2d_4 (MaxPooling2 (None, 59, 74, 32)        0         \n",
      "_________________________________________________________________\n",
      "dropout_5 (Dropout)          (None, 59, 74, 32)        0         \n",
      "_________________________________________________________________\n",
      "conv2d_9 (Conv2D)            (None, 59, 74, 64)        18496     \n",
      "_________________________________________________________________\n",
      "conv2d_10 (Conv2D)           (None, 57, 72, 64)        36928     \n",
      "_________________________________________________________________\n",
      "max_pooling2d_5 (MaxPooling2 (None, 28, 36, 64)        0         \n",
      "_________________________________________________________________\n",
      "dropout_6 (Dropout)          (None, 28, 36, 64)        0         \n",
      "_________________________________________________________________\n",
      "conv2d_11 (Conv2D)           (None, 28, 36, 64)        36928     \n",
      "_________________________________________________________________\n",
      "conv2d_12 (Conv2D)           (None, 26, 34, 64)        36928     \n",
      "_________________________________________________________________\n",
      "max_pooling2d_6 (MaxPooling2 (None, 13, 17, 64)        0         \n",
      "_________________________________________________________________\n",
      "dropout_7 (Dropout)          (None, 13, 17, 64)        0         \n",
      "_________________________________________________________________\n",
      "flatten_2 (Flatten)          (None, 14144)             0         \n",
      "_________________________________________________________________\n",
      "dense_3 (Dense)              (None, 512)               7242240   \n",
      "_________________________________________________________________\n",
      "dropout_8 (Dropout)          (None, 512)               0         \n",
      "_________________________________________________________________\n",
      "dense_4 (Dense)              (None, 5)                 2565      \n",
      "=================================================================\n",
      "Total params: 7,384,229\n",
      "Trainable params: 7,384,229\n",
      "Non-trainable params: 0\n",
      "_________________________________________________________________\n"
     ]
    }
   ],
   "source": [
    "model1 = createModel()\n",
    "model1.summary()"
   ]
  },
  {
   "cell_type": "code",
   "execution_count": 27,
   "metadata": {},
   "outputs": [
    {
     "name": "stdout",
     "output_type": "stream",
     "text": [
      "Train on 5626 samples, validate on 626 samples\n",
      "Epoch 1/30\n",
      "5626/5626 [==============================] - 968s 172ms/step - loss: 1.6731 - acc: 0.3269 - val_loss: 1.5253 - val_acc: 0.3211\n",
      "Epoch 2/30\n",
      "5626/5626 [==============================] - 908s 161ms/step - loss: 1.4961 - acc: 0.3518 - val_loss: 1.3543 - val_acc: 0.3962\n",
      "Epoch 3/30\n",
      "5626/5626 [==============================] - 902s 160ms/step - loss: 1.3070 - acc: 0.4406 - val_loss: 1.6961 - val_acc: 0.3115\n",
      "Epoch 4/30\n",
      "5626/5626 [==============================] - 901s 160ms/step - loss: 1.1944 - acc: 0.4968 - val_loss: 1.0968 - val_acc: 0.5591\n",
      "Epoch 5/30\n",
      "5626/5626 [==============================] - 901s 160ms/step - loss: 1.1045 - acc: 0.5551 - val_loss: 1.0290 - val_acc: 0.5815\n",
      "Epoch 6/30\n",
      "5626/5626 [==============================] - 904s 161ms/step - loss: 0.9894 - acc: 0.6079 - val_loss: 0.9935 - val_acc: 0.5990\n",
      "Epoch 7/30\n",
      "5626/5626 [==============================] - 904s 161ms/step - loss: 0.9147 - acc: 0.6342 - val_loss: 1.2138 - val_acc: 0.5767\n",
      "Epoch 8/30\n",
      "5626/5626 [==============================] - 905s 161ms/step - loss: 0.8448 - acc: 0.6740 - val_loss: 0.8669 - val_acc: 0.6406\n",
      "Epoch 9/30\n",
      "5626/5626 [==============================] - 914s 163ms/step - loss: 0.7913 - acc: 0.6941 - val_loss: 0.9012 - val_acc: 0.6534\n",
      "Epoch 10/30\n",
      "5626/5626 [==============================] - 902s 160ms/step - loss: 0.7258 - acc: 0.7211 - val_loss: 0.7593 - val_acc: 0.7061\n",
      "Epoch 11/30\n",
      "5626/5626 [==============================] - 900s 160ms/step - loss: 0.6190 - acc: 0.7583 - val_loss: 0.9069 - val_acc: 0.6613\n",
      "Epoch 12/30\n",
      "5626/5626 [==============================] - 909s 162ms/step - loss: 0.5791 - acc: 0.7817 - val_loss: 0.8089 - val_acc: 0.6901\n",
      "Epoch 13/30\n",
      "5626/5626 [==============================] - 907s 161ms/step - loss: 0.5016 - acc: 0.8169 - val_loss: 0.8242 - val_acc: 0.7300\n",
      "Epoch 14/30\n",
      "5626/5626 [==============================] - 910s 162ms/step - loss: 0.4247 - acc: 0.8397 - val_loss: 0.9411 - val_acc: 0.7173\n",
      "Epoch 15/30\n",
      "5626/5626 [==============================] - 886s 158ms/step - loss: 0.3894 - acc: 0.8489 - val_loss: 0.8587 - val_acc: 0.6997\n",
      "Epoch 16/30\n",
      "5626/5626 [==============================] - 895s 159ms/step - loss: 0.3227 - acc: 0.8802 - val_loss: 0.9034 - val_acc: 0.7444\n",
      "Epoch 17/30\n",
      "5626/5626 [==============================] - 895s 159ms/step - loss: 0.3021 - acc: 0.8902 - val_loss: 0.9945 - val_acc: 0.7588\n",
      "Epoch 18/30\n",
      "5626/5626 [==============================] - 886s 158ms/step - loss: 0.2538 - acc: 0.9093 - val_loss: 1.1577 - val_acc: 0.7268\n",
      "Epoch 19/30\n",
      "5626/5626 [==============================] - 894s 159ms/step - loss: 0.2193 - acc: 0.9241 - val_loss: 1.1971 - val_acc: 0.7412\n",
      "Epoch 20/30\n",
      "5626/5626 [==============================] - 897s 159ms/step - loss: 0.2080 - acc: 0.9296 - val_loss: 0.9534 - val_acc: 0.7396\n",
      "Epoch 21/30\n",
      "5626/5626 [==============================] - 890s 158ms/step - loss: 0.1684 - acc: 0.9433 - val_loss: 1.2722 - val_acc: 0.7588\n",
      "Epoch 22/30\n",
      "5626/5626 [==============================] - 910s 162ms/step - loss: 0.1601 - acc: 0.9447 - val_loss: 1.6766 - val_acc: 0.7268\n",
      "Epoch 23/30\n",
      "5626/5626 [==============================] - 891s 158ms/step - loss: 0.1664 - acc: 0.9454 - val_loss: 1.2970 - val_acc: 0.7188\n",
      "Epoch 24/30\n",
      "5626/5626 [==============================] - 896s 159ms/step - loss: 0.1583 - acc: 0.9504 - val_loss: 1.3279 - val_acc: 0.7460\n",
      "Epoch 25/30\n",
      "5626/5626 [==============================] - 898s 160ms/step - loss: 0.1294 - acc: 0.9566 - val_loss: 1.3860 - val_acc: 0.7636\n",
      "Epoch 26/30\n",
      "5626/5626 [==============================] - 891s 158ms/step - loss: 0.1266 - acc: 0.9586 - val_loss: 1.5643 - val_acc: 0.7428\n",
      "Epoch 27/30\n",
      "5626/5626 [==============================] - 888s 158ms/step - loss: 0.1357 - acc: 0.9565 - val_loss: 1.5903 - val_acc: 0.7460\n",
      "Epoch 28/30\n",
      "5626/5626 [==============================] - 900s 160ms/step - loss: 0.1170 - acc: 0.9625 - val_loss: 1.3294 - val_acc: 0.7636\n",
      "Epoch 29/30\n",
      "5626/5626 [==============================] - 936s 166ms/step - loss: 0.1068 - acc: 0.9714 - val_loss: 1.3263 - val_acc: 0.7364\n",
      "Epoch 30/30\n",
      "5626/5626 [==============================] - 940s 167ms/step - loss: 0.1101 - acc: 0.9666 - val_loss: 1.8182 - val_acc: 0.7508\n",
      "626/626 [==============================] - 33s 52ms/step\n"
     ]
    },
    {
     "data": {
      "text/plain": [
       "[1.8182265202458294, 0.7507987222351586]"
      ]
     },
     "execution_count": 27,
     "metadata": {},
     "output_type": "execute_result"
    }
   ],
   "source": [
    "batch_size = 128\n",
    "epochs = 30\n",
    "model1.compile(optimizer='rmsprop', loss='categorical_crossentropy', metrics=['accuracy'])\n",
    "\n",
    "history = model1.fit(train_data, train_labels_one_hot, batch_size=batch_size, epochs=epochs, verbose=1, \n",
    "                   validation_data=(test_data, test_labels_one_hot))\n",
    "model1.evaluate(test_data, test_labels_one_hot)"
   ]
  },
  {
   "cell_type": "code",
   "execution_count": 28,
   "metadata": {},
   "outputs": [
    {
     "data": {
      "text/plain": [
       "<matplotlib.text.Text at 0x69b07d68>"
      ]
     },
     "execution_count": 28,
     "metadata": {},
     "output_type": "execute_result"
    },
    {
     "data": {
      "image/png": "[encoded data removed]",
      "text/plain": [
       "<matplotlib.figure.Figure at 0x684ea588>"
      ]
     },
     "metadata": {},
     "output_type": "display_data"
    }
   ],
   "source": [
    "plt.figure(figsize=[8,6])\n",
    "plt.plot(history.history['loss'],'r',linewidth=3.0)\n",
    "plt.plot(history.history['val_loss'],'b',linewidth=3.0)\n",
    "plt.legend(['Training loss', 'Validation Loss'],fontsize=18)\n",
    "plt.xlabel('Epochs ',fontsize=16)\n",
    "plt.ylabel('Loss',fontsize=16)\n",
    "plt.title('Loss Curves',fontsize=16)"
   ]
  },
  {
   "cell_type": "code",
   "execution_count": 29,
   "metadata": {},
   "outputs": [
    {
     "data": {
      "text/plain": [
       "<matplotlib.text.Text at 0x69c113c8>"
      ]
     },
     "execution_count": 29,
     "metadata": {},
     "output_type": "execute_result"
    },
    {
     "data": {
      "image/png": "[encoded data removed]",
      "text/plain": [
       "<matplotlib.figure.Figure at 0x69b5d2b0>"
      ]
     },
     "metadata": {},
     "output_type": "display_data"
    }
   ],
   "source": [
    "plt.figure(figsize=[8,6])\n",
    "plt.plot(history.history['acc'],'r',linewidth=3.0)\n",
    "plt.plot(history.history['val_acc'],'b',linewidth=3.0)\n",
    "plt.legend(['Training Accuracy', 'Validation Accuracy'],fontsize=18)\n",
    "plt.xlabel('Epochs ',fontsize=16)\n",
    "plt.ylabel('Accuracy',fontsize=16)\n",
    "plt.title('Accuracy Curves',fontsize=16)"
   ]
  },
  {
   "cell_type": "code",
   "execution_count": 30,
   "metadata": {
    "collapsed": true
   },
   "outputs": [],
   "source": [
    "to_pred = dats1.astype('float32')\n",
    "to_pred /= 255\n",
    "p = model1.predict_classes(to_pred)\n",
    "p += 1"
   ]
  },
  {
   "cell_type": "code",
   "execution_count": 31,
   "metadata": {},
   "outputs": [
    {
     "data": {
      "text/plain": [
       "Counter({1: 1011, 2: 535, 3: 392, 4: 305, 5: 437})"
      ]
     },
     "execution_count": 31,
     "metadata": {},
     "output_type": "execute_result"
    }
   ],
   "source": [
    "Counter(p)"
   ]
  },
  {
   "cell_type": "code",
   "execution_count": 32,
   "metadata": {},
   "outputs": [
    {
     "data": {
      "text/html": [
       "<div>\n",
       "<style>\n",
       "    .dataframe thead tr:only-child th {\n",
       "        text-align: right;\n",
       "    }\n",
       "\n",
       "    .dataframe thead th {\n",
       "        text-align: left;\n",
       "    }\n",
       "\n",
       "    .dataframe tbody tr th {\n",
       "        vertical-align: top;\n",
       "    }\n",
       "</style>\n",
       "<table border=\"1\" class=\"dataframe\">\n",
       "  <thead>\n",
       "    <tr style=\"text-align: right;\">\n",
       "      <th></th>\n",
       "      <th>image</th>\n",
       "    </tr>\n",
       "  </thead>\n",
       "  <tbody>\n",
       "    <tr>\n",
       "      <th>0</th>\n",
       "      <td>1007700.jpg</td>\n",
       "    </tr>\n",
       "    <tr>\n",
       "      <th>1</th>\n",
       "      <td>1011369.jpg</td>\n",
       "    </tr>\n",
       "    <tr>\n",
       "      <th>2</th>\n",
       "      <td>1051155.jpg</td>\n",
       "    </tr>\n",
       "    <tr>\n",
       "      <th>3</th>\n",
       "      <td>1062001.jpg</td>\n",
       "    </tr>\n",
       "    <tr>\n",
       "      <th>4</th>\n",
       "      <td>1069397.jpg</td>\n",
       "    </tr>\n",
       "  </tbody>\n",
       "</table>\n",
       "</div>"
      ],
      "text/plain": [
       "         image\n",
       "0  1007700.jpg\n",
       "1  1011369.jpg\n",
       "2  1051155.jpg\n",
       "3  1062001.jpg\n",
       "4  1069397.jpg"
      ]
     },
     "execution_count": 32,
     "metadata": {},
     "output_type": "execute_result"
    }
   ],
   "source": [
    "tst_img[0:5]"
   ]
  },
  {
   "cell_type": "code",
   "execution_count": 33,
   "metadata": {
    "collapsed": true
   },
   "outputs": [],
   "source": [
    "df = pd.DataFrame({'image' : tst_img['image'], 'category' : p})\n",
    "columnsTitles=[\"image\",\"category\"]\n",
    "df=df.reindex(columns=columnsTitles)"
   ]
  },
  {
   "cell_type": "code",
   "execution_count": 34,
   "metadata": {},
   "outputs": [
    {
     "data": {
      "text/html": [
       "<div>\n",
       "<style>\n",
       "    .dataframe thead tr:only-child th {\n",
       "        text-align: right;\n",
       "    }\n",
       "\n",
       "    .dataframe thead th {\n",
       "        text-align: left;\n",
       "    }\n",
       "\n",
       "    .dataframe tbody tr th {\n",
       "        vertical-align: top;\n",
       "    }\n",
       "</style>\n",
       "<table border=\"1\" class=\"dataframe\">\n",
       "  <thead>\n",
       "    <tr style=\"text-align: right;\">\n",
       "      <th></th>\n",
       "      <th>image</th>\n",
       "      <th>category</th>\n",
       "    </tr>\n",
       "  </thead>\n",
       "  <tbody>\n",
       "    <tr>\n",
       "      <th>0</th>\n",
       "      <td>1007700.jpg</td>\n",
       "      <td>4</td>\n",
       "    </tr>\n",
       "    <tr>\n",
       "      <th>1</th>\n",
       "      <td>1011369.jpg</td>\n",
       "      <td>4</td>\n",
       "    </tr>\n",
       "    <tr>\n",
       "      <th>2</th>\n",
       "      <td>1051155.jpg</td>\n",
       "      <td>4</td>\n",
       "    </tr>\n",
       "    <tr>\n",
       "      <th>3</th>\n",
       "      <td>1062001.jpg</td>\n",
       "      <td>2</td>\n",
       "    </tr>\n",
       "    <tr>\n",
       "      <th>4</th>\n",
       "      <td>1069397.jpg</td>\n",
       "      <td>4</td>\n",
       "    </tr>\n",
       "  </tbody>\n",
       "</table>\n",
       "</div>"
      ],
      "text/plain": [
       "         image  category\n",
       "0  1007700.jpg         4\n",
       "1  1011369.jpg         4\n",
       "2  1051155.jpg         4\n",
       "3  1062001.jpg         2\n",
       "4  1069397.jpg         4"
      ]
     },
     "execution_count": 34,
     "metadata": {},
     "output_type": "execute_result"
    }
   ],
   "source": [
    "df.head()"
   ]
  },
  {
   "cell_type": "code",
   "execution_count": 35,
   "metadata": {
    "collapsed": true
   },
   "outputs": [],
   "source": [
    "df.to_csv(\"D:/Biswajit/HackerearthML/AnalyticsVidhya/BG_submit4.csv\", index=0)"
   ]
  },
  {
   "cell_type": "code",
   "execution_count": null,
   "metadata": {
    "collapsed": true
   },
   "outputs": [],
   "source": []
  }
 ],
 "metadata": {
  "kernelspec": {
   "display_name": "Python 3",
   "language": "python",
   "name": "python3"
  },
  "language_info": {
   "codemirror_mode": {
    "name": "ipython",
    "version": 3
   },
   "file_extension": ".py",
   "mimetype": "text/x-python",
   "name": "python",
   "nbconvert_exporter": "python",
   "pygments_lexer": "ipython3",
   "version": "3.6.1"
  }
 },
 "nbformat": 4,
 "nbformat_minor": 2
}
